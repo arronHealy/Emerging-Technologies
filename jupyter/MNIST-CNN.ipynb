{
 "cells": [
  {
   "cell_type": "markdown",
   "metadata": {},
   "source": [
    "# MNIST Convolutional Neural Network"
   ]
  },
  {
   "cell_type": "markdown",
   "metadata": {},
   "source": [
    "<img src=\"https://miro.medium.com/max/2200/1*XdCMCaHPt-pqtEibUfAnNw.png\" alt=\"\" height=\"20\" width=\"500\" />"
   ]
  },
  {
   "cell_type": "code",
   "execution_count": 1,
   "metadata": {},
   "outputs": [
    {
     "name": "stderr",
     "output_type": "stream",
     "text": [
      "Using TensorFlow backend.\n"
     ]
    }
   ],
   "source": [
    "import keras as kr\n",
    "from keras.models import Sequential\n",
    "from keras.layers import Dense, Conv2D, MaxPool2D, Flatten, BatchNormalization\n",
    "import numpy as np\n",
    "import matplotlib.pyplot as plt\n",
    "import gzip\n",
    "import sklearn.preprocessing as pre"
   ]
  },
  {
   "cell_type": "markdown",
   "metadata": {},
   "source": [
    "## Read Train Images and Train Labels"
   ]
  },
  {
   "cell_type": "code",
   "execution_count": 2,
   "metadata": {},
   "outputs": [],
   "source": [
    "with gzip.open('./train-images-idx3-ubyte.gz', 'rb') as f:\n",
    "    train_images = f.read()\n",
    "    \n",
    "with gzip.open('./train-labels-idx1-ubyte.gz', 'rb') as f:\n",
    "    train_labels = f.read()"
   ]
  },
  {
   "cell_type": "markdown",
   "metadata": {},
   "source": [
    "## Read Test Images and Test Labels"
   ]
  },
  {
   "cell_type": "code",
   "execution_count": 3,
   "metadata": {},
   "outputs": [],
   "source": [
    "with gzip.open('./t10k-images-idx3-ubyte.gz', 'rb') as f:\n",
    "    test_images = f.read()\n",
    "    \n",
    "with gzip.open('./t10k-labels-idx1-ubyte.gz', 'rb') as f:\n",
    "    test_labels = f.read()"
   ]
  },
  {
   "cell_type": "code",
   "execution_count": 4,
   "metadata": {},
   "outputs": [
    {
     "data": {
      "text/plain": [
       "bytes"
      ]
     },
     "execution_count": 4,
     "metadata": {},
     "output_type": "execute_result"
    }
   ],
   "source": [
    "type(train_images)"
   ]
  },
  {
   "cell_type": "code",
   "execution_count": 5,
   "metadata": {},
   "outputs": [
    {
     "data": {
      "text/plain": [
       "b'\\x00\\x00\\x08\\x03'"
      ]
     },
     "execution_count": 5,
     "metadata": {},
     "output_type": "execute_result"
    }
   ],
   "source": [
    "train_images[0:4]"
   ]
  },
  {
   "cell_type": "markdown",
   "metadata": {},
   "source": [
    "## Little and Big Endian"
   ]
  },
  {
   "cell_type": "code",
   "execution_count": 6,
   "metadata": {},
   "outputs": [
    {
     "data": {
      "text/plain": [
       "2051"
      ]
     },
     "execution_count": 6,
     "metadata": {},
     "output_type": "execute_result"
    }
   ],
   "source": [
    "# little and big endian\n",
    "int.from_bytes(train_images[0:4], byteorder='big')"
   ]
  },
  {
   "cell_type": "code",
   "execution_count": 7,
   "metadata": {},
   "outputs": [
    {
     "data": {
      "text/plain": [
       "60000"
      ]
     },
     "execution_count": 7,
     "metadata": {},
     "output_type": "execute_result"
    }
   ],
   "source": [
    "int.from_bytes(train_images[4:8], byteorder='big')"
   ]
  },
  {
   "cell_type": "code",
   "execution_count": 8,
   "metadata": {},
   "outputs": [
    {
     "data": {
      "text/plain": [
       "28"
      ]
     },
     "execution_count": 8,
     "metadata": {},
     "output_type": "execute_result"
    }
   ],
   "source": [
    "int.from_bytes(train_images[8:12], byteorder='big')"
   ]
  },
  {
   "cell_type": "code",
   "execution_count": 9,
   "metadata": {},
   "outputs": [
    {
     "data": {
      "text/plain": [
       "28"
      ]
     },
     "execution_count": 9,
     "metadata": {},
     "output_type": "execute_result"
    }
   ],
   "source": [
    "int.from_bytes(train_images[12:16], byteorder='big')"
   ]
  },
  {
   "cell_type": "code",
   "execution_count": 10,
   "metadata": {},
   "outputs": [
    {
     "data": {
      "text/plain": [
       "107"
      ]
     },
     "execution_count": 10,
     "metadata": {},
     "output_type": "execute_result"
    }
   ],
   "source": [
    "int.from_bytes(train_images[278:279], byteorder='big')"
   ]
  },
  {
   "cell_type": "markdown",
   "metadata": {},
   "source": [
    "## Reading Images"
   ]
  },
  {
   "cell_type": "code",
   "execution_count": 11,
   "metadata": {},
   "outputs": [
    {
     "data": {
      "text/plain": [
       "bytes"
      ]
     },
     "execution_count": 11,
     "metadata": {},
     "output_type": "execute_result"
    }
   ],
   "source": [
    "image = train_images[16:800]\n",
    "\n",
    "type(image)"
   ]
  },
  {
   "cell_type": "code",
   "execution_count": 12,
   "metadata": {},
   "outputs": [],
   "source": [
    "# Read image as byte vector size 784, convert to 28 x 28 numpy unint8 2D array\n",
    "image = ~np.array(list(train_images[16:800])).reshape(28,28).astype(np.uint8)"
   ]
  },
  {
   "cell_type": "code",
   "execution_count": 13,
   "metadata": {},
   "outputs": [
    {
     "data": {
      "text/plain": [
       "<matplotlib.image.AxesImage at 0x25d24a39ef0>"
      ]
     },
     "execution_count": 13,
     "metadata": {},
     "output_type": "execute_result"
    },
    {
     "data": {
      "image/png": "[encoded data removed]",
      "text/plain": [
       "<Figure size 432x288 with 1 Axes>"
      ]
     },
     "metadata": {
      "needs_background": "light"
     },
     "output_type": "display_data"
    }
   ],
   "source": [
    "plt.imshow(image, cmap='gray')"
   ]
  },
  {
   "cell_type": "markdown",
   "metadata": {},
   "source": [
    "## Reading Image labels"
   ]
  },
  {
   "cell_type": "code",
   "execution_count": 14,
   "metadata": {},
   "outputs": [
    {
     "data": {
      "text/plain": [
       "5"
      ]
     },
     "execution_count": 14,
     "metadata": {},
     "output_type": "execute_result"
    }
   ],
   "source": [
    "int.from_bytes(train_labels[8:9], byteorder='big')"
   ]
  },
  {
   "cell_type": "markdown",
   "metadata": {},
   "source": [
    "## Save images and labels as numpy arrays"
   ]
  },
  {
   "cell_type": "code",
   "execution_count": 15,
   "metadata": {},
   "outputs": [
    {
     "name": "stdout",
     "output_type": "stream",
     "text": [
      "train images shape:  (60000, 28, 28)\n",
      "train labels shape:  (60000,)\n",
      "train inputs shape:  (60000, 28, 28, 1)\n"
     ]
    }
   ],
   "source": [
    "# read training images as bytes and convert to 2D matrix for CNN\n",
    "train_images = ~np.array(list(train_images[16:])).reshape(60000, 28, 28)\n",
    "\n",
    "# scale values between 0 and 1\n",
    "train_images / 255.0\n",
    "\n",
    "# read in training labels 0 - 9\n",
    "train_labels = np.array(list(train_labels[8:])).astype(np.uint8)\n",
    "\n",
    "# test images read as bytes and convert to 2D matrix for CNN\n",
    "test_images = ~np.array(list(test_images[16:])).reshape(10000, 28, 28)\n",
    "\n",
    "# scale values between 0 and 1\n",
    "test_images / 255.0\n",
    "\n",
    "# read in test labels 0 - 9\n",
    "test_labels = np.array(list(test_labels[8:])).astype(np.uint8)\n",
    "\n",
    "# inspect data shape\n",
    "print('train images shape: ', train_images.shape)\n",
    "print('train labels shape: ', train_labels.shape)\n",
    "\n",
    "# reshape numpy arrays for grayscale colour channel \n",
    "train_inputs = train_images.reshape(60000, 28, 28, 1)\n",
    "test_inputs = test_images.reshape(10000, 28, 28, 1)\n",
    "\n",
    "# check data after\n",
    "print('train inputs shape: ', train_inputs.shape)"
   ]
  },
  {
   "cell_type": "markdown",
   "metadata": {},
   "source": [
    "# One Hot Encode Labels"
   ]
  },
  {
   "cell_type": "code",
   "execution_count": 16,
   "metadata": {},
   "outputs": [
    {
     "name": "stdout",
     "output_type": "stream",
     "text": [
      "train label 0: 5, outputs 0: [0 0 0 0 0 1 0 0 0 0]\n",
      "\n",
      "At index 0, value is [[1 0 0 0 0 0 0 0 0 0]]\n",
      "At index 1, value is [[0 1 0 0 0 0 0 0 0 0]]\n",
      "At index 2, value is [[0 0 1 0 0 0 0 0 0 0]]\n",
      "At index 3, value is [[0 0 0 1 0 0 0 0 0 0]]\n",
      "At index 4, value is [[0 0 0 0 1 0 0 0 0 0]]\n",
      "At index 5, value is [[0 0 0 0 0 1 0 0 0 0]]\n",
      "At index 6, value is [[0 0 0 0 0 0 1 0 0 0]]\n",
      "At index 7, value is [[0 0 0 0 0 0 0 1 0 0]]\n",
      "At index 8, value is [[0 0 0 0 0 0 0 0 1 0]]\n",
      "At index 9, value is [[0 0 0 0 0 0 0 0 0 1]]\n",
      "\n",
      "test label 0: 7, outputs 0: [0 0 0 0 0 0 0 1 0 0]\n",
      "\n",
      "At index 0, value is [[1 0 0 0 0 0 0 0 0 0]]\n",
      "At index 1, value is [[0 1 0 0 0 0 0 0 0 0]]\n",
      "At index 2, value is [[0 0 1 0 0 0 0 0 0 0]]\n",
      "At index 3, value is [[0 0 0 1 0 0 0 0 0 0]]\n",
      "At index 4, value is [[0 0 0 0 1 0 0 0 0 0]]\n",
      "At index 5, value is [[0 0 0 0 0 1 0 0 0 0]]\n",
      "At index 6, value is [[0 0 0 0 0 0 1 0 0 0]]\n",
      "At index 7, value is [[0 0 0 0 0 0 0 1 0 0]]\n",
      "At index 8, value is [[0 0 0 0 0 0 0 0 1 0]]\n",
      "At index 9, value is [[0 0 0 0 0 0 0 0 0 1]]\n"
     ]
    }
   ],
   "source": [
    "# define label binarizer instance\n",
    "train_encoder = pre.LabelBinarizer()\n",
    "\n",
    "# fit the training labels\n",
    "train_encoder.fit(train_labels)\n",
    "\n",
    "# transform labels to categorical data\n",
    "train_outputs = train_encoder.transform(train_labels)\n",
    "\n",
    "print('train label 0: {}, outputs 0: {}\\n'.format(train_labels[0], train_outputs[0]))\n",
    "\n",
    "# loop and print encoder values\n",
    "for i in range(10):\n",
    "    print('At index {}, value is {}'.format(i, train_encoder.transform([i])))\n",
    "\n",
    "# test label binarizer\n",
    "test_encoder = pre.LabelBinarizer()\n",
    "\n",
    "# fit test labels\n",
    "test_encoder.fit(test_labels)\n",
    "\n",
    "# transform to categorical\n",
    "test_outputs = test_encoder.transform(test_labels)\n",
    "\n",
    "print('\\ntest label 0: {}, outputs 0: {}\\n'.format(test_labels[0], test_outputs[0]))\n",
    "\n",
    "# loop and print encoder values\n",
    "for i in range(10):\n",
    "    print('At index {}, value is {}'.format(i, test_encoder.transform([i])))"
   ]
  },
  {
   "cell_type": "markdown",
   "metadata": {},
   "source": [
    "# Convolutional Neural Network"
   ]
  },
  {
   "cell_type": "code",
   "execution_count": 17,
   "metadata": {},
   "outputs": [
    {
     "name": "stdout",
     "output_type": "stream",
     "text": [
      "WARNING:tensorflow:From C:\\Users\\Aaron\\Anaconda3\\lib\\site-packages\\tensorflow\\python\\framework\\op_def_library.py:263: colocate_with (from tensorflow.python.framework.ops) is deprecated and will be removed in a future version.\n",
      "Instructions for updating:\n",
      "Colocations handled automatically by placer.\n"
     ]
    }
   ],
   "source": [
    "# add sequential model\n",
    "model = Sequential()\n",
    "\n",
    "# add a 2D convolution layer, creates a convolution kernel which helps produce a tensor of outputs\n",
    "model.add(Conv2D(32, kernel_size=(3,3), activation='relu', input_shape=(28, 28, 1)))\n",
    "\n",
    "# https://datascience.stackexchange.com/questions/53426/what-exactly-is-batchnormalization-in-keras\n",
    "# https://keras.io/layers/normalization/\n",
    "# normalizes input to the activation function\n",
    "model.add(BatchNormalization())\n",
    "\n",
    "# add another 2D layer\n",
    "model.add(Conv2D(64, kernel_size=(3,3), activation='relu'))\n",
    "\n",
    "# normalize between layers\n",
    "model.add(BatchNormalization())\n",
    "\n",
    "# https://keras.io/layers/pooling/\n",
    "# Max pooling operation for spatial data\n",
    "# chooses the best features\n",
    "model.add(MaxPool2D(pool_size=(2,2)))\n",
    "\n",
    "# normalize between layers\n",
    "model.add(BatchNormalization())\n",
    "\n",
    "# 2D --> 1D\n",
    "model.add(Flatten())\n",
    "\n",
    "# add Dense layer to get all relevant data\n",
    "model.add(Dense(128, activation='relu'))\n",
    "\n",
    "# normalize between layers\n",
    "model.add(BatchNormalization())\n",
    "\n",
    "# add dense layer with softmax activation function for probability of 0-9 value\n",
    "model.add(Dense(10, activation='softmax'))\n",
    "\n",
    "# compile the model\n",
    "model.compile(loss='categorical_crossentropy',\n",
    "             optimizer='adam',\n",
    "             metrics=['accuracy'])"
   ]
  },
  {
   "cell_type": "markdown",
   "metadata": {},
   "source": [
    "# Summary of Model"
   ]
  },
  {
   "cell_type": "code",
   "execution_count": 18,
   "metadata": {},
   "outputs": [
    {
     "name": "stdout",
     "output_type": "stream",
     "text": [
      "_________________________________________________________________\n",
      "Layer (type)                 Output Shape              Param #   \n",
      "=================================================================\n",
      "conv2d_1 (Conv2D)            (None, 26, 26, 32)        320       \n",
      "_________________________________________________________________\n",
      "batch_normalization_1 (Batch (None, 26, 26, 32)        128       \n",
      "_________________________________________________________________\n",
      "conv2d_2 (Conv2D)            (None, 24, 24, 64)        18496     \n",
      "_________________________________________________________________\n",
      "batch_normalization_2 (Batch (None, 24, 24, 64)        256       \n",
      "_________________________________________________________________\n",
      "max_pooling2d_1 (MaxPooling2 (None, 12, 12, 64)        0         \n",
      "_________________________________________________________________\n",
      "batch_normalization_3 (Batch (None, 12, 12, 64)        256       \n",
      "_________________________________________________________________\n",
      "flatten_1 (Flatten)          (None, 9216)              0         \n",
      "_________________________________________________________________\n",
      "dense_1 (Dense)              (None, 128)               1179776   \n",
      "_________________________________________________________________\n",
      "batch_normalization_4 (Batch (None, 128)               512       \n",
      "_________________________________________________________________\n",
      "dense_2 (Dense)              (None, 10)                1290      \n",
      "=================================================================\n",
      "Total params: 1,201,034\n",
      "Trainable params: 1,200,458\n",
      "Non-trainable params: 576\n",
      "_________________________________________________________________\n"
     ]
    }
   ],
   "source": [
    "model.summary()"
   ]
  },
  {
   "cell_type": "markdown",
   "metadata": {},
   "source": [
    "# Train the Model"
   ]
  },
  {
   "cell_type": "code",
   "execution_count": 19,
   "metadata": {},
   "outputs": [
    {
     "name": "stdout",
     "output_type": "stream",
     "text": [
      "WARNING:tensorflow:From C:\\Users\\Aaron\\Anaconda3\\lib\\site-packages\\tensorflow\\python\\ops\\math_ops.py:3066: to_int32 (from tensorflow.python.ops.math_ops) is deprecated and will be removed in a future version.\n",
      "Instructions for updating:\n",
      "Use tf.cast instead.\n",
      "Epoch 1/2\n",
      "60000/60000 [==============================] - 632s 11ms/step - loss: 0.1004 - acc: 0.9698\n",
      "Epoch 2/2\n",
      "60000/60000 [==============================] - 628s 10ms/step - loss: 0.0291 - acc: 0.9916\n"
     ]
    },
    {
     "data": {
      "text/plain": [
       "<keras.callbacks.History at 0x25d24a98d68>"
      ]
     },
     "execution_count": 19,
     "metadata": {},
     "output_type": "execute_result"
    }
   ],
   "source": [
    "model.fit(train_inputs, train_outputs, batch_size=128, epochs=2, verbose=1)"
   ]
  },
  {
   "cell_type": "markdown",
   "metadata": {},
   "source": [
    "# Evaluate Model"
   ]
  },
  {
   "cell_type": "code",
   "execution_count": 22,
   "metadata": {},
   "outputs": [
    {
     "name": "stdout",
     "output_type": "stream",
     "text": [
      "10000/10000 [==============================] - 53s 5ms/step\n",
      "0.038683432718506085 0.9861\n"
     ]
    }
   ],
   "source": [
    "val_loss, val_acc = model.evaluate(test_inputs, test_outputs)\n",
    "\n",
    "print(val_loss, val_acc)"
   ]
  },
  {
   "cell_type": "markdown",
   "metadata": {},
   "source": [
    "# Save the Model"
   ]
  },
  {
   "cell_type": "code",
   "execution_count": 23,
   "metadata": {},
   "outputs": [],
   "source": [
    "model.save('mnist_conv2d.h5')"
   ]
  },
  {
   "cell_type": "markdown",
   "metadata": {},
   "source": [
    "# Load the Model"
   ]
  },
  {
   "cell_type": "code",
   "execution_count": 24,
   "metadata": {},
   "outputs": [],
   "source": [
    "new_model = kr.models.load_model('mnist_conv2d.h5')"
   ]
  },
  {
   "cell_type": "markdown",
   "metadata": {},
   "source": [
    "# Make a prediction"
   ]
  },
  {
   "cell_type": "code",
   "execution_count": 26,
   "metadata": {},
   "outputs": [
    {
     "name": "stdout",
     "output_type": "stream",
     "text": [
      "At predictions index 50, number is a  6\n"
     ]
    }
   ],
   "source": [
    "predictions = new_model.predict([test_inputs])\n",
    "\n",
    "print('At predictions index 50, number is a ', np.argmax(predictions[50]))"
   ]
  },
  {
   "cell_type": "code",
   "execution_count": 27,
   "metadata": {},
   "outputs": [
    {
     "data": {
      "text/plain": [
       "<matplotlib.image.AxesImage at 0x25d461f7cf8>"
      ]
     },
     "execution_count": 27,
     "metadata": {},
     "output_type": "execute_result"
    },
    {
     "data": {
      "image/png": "[encoded data removed]",
      "text/plain": [
       "<Figure size 432x288 with 1 Axes>"
      ]
     },
     "metadata": {
      "needs_background": "light"
     },
     "output_type": "display_data"
    }
   ],
   "source": [
    "plt.imshow(test_inputs[50].reshape(28, 28), cmap=plt.cm.binary)"
   ]
  },
  {
   "cell_type": "markdown",
   "metadata": {},
   "source": [
    "# Research References"
   ]
  },
  {
   "cell_type": "markdown",
   "metadata": {},
   "source": [
    "* https://keras.io/examples/mnist_cnn/\n",
    "* https://github.com/ianmcloughlin/jupyter-teaching-notebooks/blob/master/mnist.ipynb\n",
    "* https://www.kaggle.com/kentaroyoshioka47/cnn-with-batchnormalization-in-keras-94\n",
    "* https://machinelearningmastery.com/how-to-develop-a-convolutional-neural-network-from-scratch-for-mnist-handwritten-digit-classification/\n",
    "* https://missinglink.ai/guides/keras/keras-conv2d-working-cnn-2d-convolutions-keras/"
   ]
  },
  {
   "cell_type": "markdown",
   "metadata": {},
   "source": [
    "# End"
   ]
  },
  {
   "cell_type": "code",
   "execution_count": null,
   "metadata": {},
   "outputs": [],
   "source": []
  }
 ],
 "metadata": {
  "kernelspec": {
   "display_name": "Python 3",
   "language": "python",
   "name": "python3"
  },
  "language_info": {
   "codemirror_mode": {
    "name": "ipython",
    "version": 3
   },
   "file_extension": ".py",
   "mimetype": "text/x-python",
   "name": "python",
   "nbconvert_exporter": "python",
   "pygments_lexer": "ipython3",
   "version": "3.7.1"
  }
 },
 "nbformat": 4,
 "nbformat_minor": 4
}
